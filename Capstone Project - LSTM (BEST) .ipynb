{
 "cells": [
  {
   "cell_type": "code",
   "execution_count": 199,
   "id": "ccebe7fb",
   "metadata": {},
   "outputs": [],
   "source": [
    "import math\n",
    "import pandas as pd\n",
    "import numpy as np\n",
    "import seaborn as sns\n",
    "import plotly.express as px\n",
    "import matplotlib.pyplot as plt\n",
    "import numpy\n",
    "from pandas import read_csv\n",
    "from pandas import DataFrame\n",
    "from pandas import concat\n",
    "from datetime import datetime\n",
    "from sklearn.metrics import mean_squared_error\n",
    "from sklearn.metrics import mean_absolute_error as mae\n",
    "from statsmodels.tsa.stattools import grangercausalitytests\n",
    "from sklearn.preprocessing import MinMaxScaler\n",
    "\n",
    "#Libraries and Functions for LSTM\n",
    "\n",
    "from math import sqrt\n",
    "from numpy import concatenate\n",
    "from matplotlib import pyplot\n",
    "from pandas import read_csv\n",
    "from pandas import DataFrame\n",
    "from pandas import concat\n",
    "from sklearn.preprocessing import MinMaxScaler\n",
    "from sklearn.preprocessing import LabelEncoder\n",
    "from sklearn.metrics import mean_squared_error\n",
    "from keras.models import Sequential\n",
    "from keras.layers import Dense\n",
    "from keras.layers import Dropout, Activation\n",
    "from keras.layers import LSTM"
   ]
  },
  {
   "cell_type": "code",
   "execution_count": 200,
   "id": "548a54e9",
   "metadata": {
    "scrolled": true
   },
   "outputs": [
    {
     "data": {
      "text/plain": [
       "Index(['Date', 'promotion_post', 'like', 'comment', 'share', 'save',\n",
       "       'product_page_views', 'product_button_click', 'profile_visits',\n",
       "       'web_clicks', 'busi_add_taps', 'follows', 'reach', 'total_imp',\n",
       "       'imp_home', 'imp_profile', 'imp_hashtag', 'imp_other', 'imp_explore',\n",
       "       'is_shares', 'is_replies', 'is_profile_visits', 'is_websites_taps',\n",
       "       'is_sticker_taps', 'is_get_direction_button_taps',\n",
       "       'is_business_address_taps', 'is_reach', 'is_impression', 'is_follows',\n",
       "       'Quantity', 'sales'],\n",
       "      dtype='object')"
      ]
     },
     "execution_count": 200,
     "metadata": {},
     "output_type": "execute_result"
    }
   ],
   "source": [
    "data_1 = pd.read_csv('capstone_4.csv')\n",
    "data_1.columns "
   ]
  },
  {
   "cell_type": "code",
   "execution_count": 201,
   "id": "2eabf66d",
   "metadata": {},
   "outputs": [
    {
     "data": {
      "text/html": [
       "<div>\n",
       "<style scoped>\n",
       "    .dataframe tbody tr th:only-of-type {\n",
       "        vertical-align: middle;\n",
       "    }\n",
       "\n",
       "    .dataframe tbody tr th {\n",
       "        vertical-align: top;\n",
       "    }\n",
       "\n",
       "    .dataframe thead th {\n",
       "        text-align: right;\n",
       "    }\n",
       "</style>\n",
       "<table border=\"1\" class=\"dataframe\">\n",
       "  <thead>\n",
       "    <tr style=\"text-align: right;\">\n",
       "      <th></th>\n",
       "      <th>Date</th>\n",
       "      <th>promotion_post</th>\n",
       "      <th>like</th>\n",
       "      <th>comment</th>\n",
       "      <th>share</th>\n",
       "      <th>save</th>\n",
       "      <th>product_page_views</th>\n",
       "      <th>product_button_click</th>\n",
       "      <th>profile_visits</th>\n",
       "      <th>web_clicks</th>\n",
       "      <th>...</th>\n",
       "      <th>is_profile_visits</th>\n",
       "      <th>is_websites_taps</th>\n",
       "      <th>is_sticker_taps</th>\n",
       "      <th>is_get_direction_button_taps</th>\n",
       "      <th>is_business_address_taps</th>\n",
       "      <th>is_reach</th>\n",
       "      <th>is_impression</th>\n",
       "      <th>is_follows</th>\n",
       "      <th>Quantity</th>\n",
       "      <th>sales</th>\n",
       "    </tr>\n",
       "  </thead>\n",
       "  <tbody>\n",
       "    <tr>\n",
       "      <th>0</th>\n",
       "      <td>2019-07-01</td>\n",
       "      <td>0.0</td>\n",
       "      <td>11.0</td>\n",
       "      <td>0.0</td>\n",
       "      <td>0.0</td>\n",
       "      <td>0.0</td>\n",
       "      <td>0.0</td>\n",
       "      <td>0.0</td>\n",
       "      <td>0.0</td>\n",
       "      <td>0.0</td>\n",
       "      <td>...</td>\n",
       "      <td>0.0</td>\n",
       "      <td>0.0</td>\n",
       "      <td>0.0</td>\n",
       "      <td>0.0</td>\n",
       "      <td>0.0</td>\n",
       "      <td>0.0</td>\n",
       "      <td>0.0</td>\n",
       "      <td>0.0</td>\n",
       "      <td>9.0</td>\n",
       "      <td>3490.0</td>\n",
       "    </tr>\n",
       "    <tr>\n",
       "      <th>1</th>\n",
       "      <td>2019-07-02</td>\n",
       "      <td>0.0</td>\n",
       "      <td>0.0</td>\n",
       "      <td>0.0</td>\n",
       "      <td>0.0</td>\n",
       "      <td>0.0</td>\n",
       "      <td>0.0</td>\n",
       "      <td>0.0</td>\n",
       "      <td>0.0</td>\n",
       "      <td>0.0</td>\n",
       "      <td>...</td>\n",
       "      <td>0.0</td>\n",
       "      <td>0.0</td>\n",
       "      <td>0.0</td>\n",
       "      <td>0.0</td>\n",
       "      <td>0.0</td>\n",
       "      <td>0.0</td>\n",
       "      <td>0.0</td>\n",
       "      <td>0.0</td>\n",
       "      <td>10.0</td>\n",
       "      <td>4943.0</td>\n",
       "    </tr>\n",
       "    <tr>\n",
       "      <th>2</th>\n",
       "      <td>2019-07-03</td>\n",
       "      <td>0.0</td>\n",
       "      <td>0.0</td>\n",
       "      <td>0.0</td>\n",
       "      <td>0.0</td>\n",
       "      <td>0.0</td>\n",
       "      <td>0.0</td>\n",
       "      <td>0.0</td>\n",
       "      <td>0.0</td>\n",
       "      <td>0.0</td>\n",
       "      <td>...</td>\n",
       "      <td>0.0</td>\n",
       "      <td>0.0</td>\n",
       "      <td>0.0</td>\n",
       "      <td>0.0</td>\n",
       "      <td>0.0</td>\n",
       "      <td>0.0</td>\n",
       "      <td>0.0</td>\n",
       "      <td>0.0</td>\n",
       "      <td>10.0</td>\n",
       "      <td>4943.0</td>\n",
       "    </tr>\n",
       "    <tr>\n",
       "      <th>3</th>\n",
       "      <td>2019-07-04</td>\n",
       "      <td>0.0</td>\n",
       "      <td>0.0</td>\n",
       "      <td>0.0</td>\n",
       "      <td>0.0</td>\n",
       "      <td>0.0</td>\n",
       "      <td>0.0</td>\n",
       "      <td>0.0</td>\n",
       "      <td>0.0</td>\n",
       "      <td>0.0</td>\n",
       "      <td>...</td>\n",
       "      <td>0.0</td>\n",
       "      <td>0.0</td>\n",
       "      <td>0.0</td>\n",
       "      <td>0.0</td>\n",
       "      <td>0.0</td>\n",
       "      <td>0.0</td>\n",
       "      <td>0.0</td>\n",
       "      <td>0.0</td>\n",
       "      <td>5.0</td>\n",
       "      <td>1573.0</td>\n",
       "    </tr>\n",
       "    <tr>\n",
       "      <th>4</th>\n",
       "      <td>2019-07-05</td>\n",
       "      <td>0.0</td>\n",
       "      <td>0.0</td>\n",
       "      <td>0.0</td>\n",
       "      <td>0.0</td>\n",
       "      <td>0.0</td>\n",
       "      <td>0.0</td>\n",
       "      <td>0.0</td>\n",
       "      <td>0.0</td>\n",
       "      <td>0.0</td>\n",
       "      <td>...</td>\n",
       "      <td>0.0</td>\n",
       "      <td>0.0</td>\n",
       "      <td>0.0</td>\n",
       "      <td>0.0</td>\n",
       "      <td>0.0</td>\n",
       "      <td>0.0</td>\n",
       "      <td>0.0</td>\n",
       "      <td>0.0</td>\n",
       "      <td>10.0</td>\n",
       "      <td>4943.0</td>\n",
       "    </tr>\n",
       "    <tr>\n",
       "      <th>...</th>\n",
       "      <td>...</td>\n",
       "      <td>...</td>\n",
       "      <td>...</td>\n",
       "      <td>...</td>\n",
       "      <td>...</td>\n",
       "      <td>...</td>\n",
       "      <td>...</td>\n",
       "      <td>...</td>\n",
       "      <td>...</td>\n",
       "      <td>...</td>\n",
       "      <td>...</td>\n",
       "      <td>...</td>\n",
       "      <td>...</td>\n",
       "      <td>...</td>\n",
       "      <td>...</td>\n",
       "      <td>...</td>\n",
       "      <td>...</td>\n",
       "      <td>...</td>\n",
       "      <td>...</td>\n",
       "      <td>...</td>\n",
       "      <td>...</td>\n",
       "    </tr>\n",
       "    <tr>\n",
       "      <th>696</th>\n",
       "      <td>2021-05-27</td>\n",
       "      <td>0.0</td>\n",
       "      <td>21.0</td>\n",
       "      <td>0.0</td>\n",
       "      <td>1.0</td>\n",
       "      <td>4.0</td>\n",
       "      <td>7.0</td>\n",
       "      <td>0.0</td>\n",
       "      <td>20.0</td>\n",
       "      <td>2.0</td>\n",
       "      <td>...</td>\n",
       "      <td>1.0</td>\n",
       "      <td>1.0</td>\n",
       "      <td>0.0</td>\n",
       "      <td>0.0</td>\n",
       "      <td>0.0</td>\n",
       "      <td>1218.0</td>\n",
       "      <td>1247.0</td>\n",
       "      <td>0.0</td>\n",
       "      <td>10.0</td>\n",
       "      <td>4943.0</td>\n",
       "    </tr>\n",
       "    <tr>\n",
       "      <th>697</th>\n",
       "      <td>2021-05-28</td>\n",
       "      <td>0.0</td>\n",
       "      <td>7.0</td>\n",
       "      <td>0.0</td>\n",
       "      <td>0.0</td>\n",
       "      <td>2.0</td>\n",
       "      <td>7.0</td>\n",
       "      <td>0.0</td>\n",
       "      <td>4.0</td>\n",
       "      <td>0.0</td>\n",
       "      <td>...</td>\n",
       "      <td>8.0</td>\n",
       "      <td>3.0</td>\n",
       "      <td>0.0</td>\n",
       "      <td>0.0</td>\n",
       "      <td>0.0</td>\n",
       "      <td>1952.0</td>\n",
       "      <td>2020.0</td>\n",
       "      <td>0.0</td>\n",
       "      <td>10.0</td>\n",
       "      <td>4943.0</td>\n",
       "    </tr>\n",
       "    <tr>\n",
       "      <th>698</th>\n",
       "      <td>2021-05-29</td>\n",
       "      <td>0.0</td>\n",
       "      <td>8.0</td>\n",
       "      <td>0.0</td>\n",
       "      <td>0.0</td>\n",
       "      <td>1.0</td>\n",
       "      <td>7.0</td>\n",
       "      <td>0.0</td>\n",
       "      <td>0.0</td>\n",
       "      <td>0.0</td>\n",
       "      <td>...</td>\n",
       "      <td>2.0</td>\n",
       "      <td>1.0</td>\n",
       "      <td>0.0</td>\n",
       "      <td>0.0</td>\n",
       "      <td>0.0</td>\n",
       "      <td>1952.0</td>\n",
       "      <td>2020.0</td>\n",
       "      <td>0.0</td>\n",
       "      <td>10.0</td>\n",
       "      <td>4943.0</td>\n",
       "    </tr>\n",
       "    <tr>\n",
       "      <th>699</th>\n",
       "      <td>2021-05-30</td>\n",
       "      <td>0.0</td>\n",
       "      <td>4.0</td>\n",
       "      <td>0.0</td>\n",
       "      <td>1.0</td>\n",
       "      <td>2.0</td>\n",
       "      <td>7.0</td>\n",
       "      <td>0.0</td>\n",
       "      <td>4.0</td>\n",
       "      <td>0.0</td>\n",
       "      <td>...</td>\n",
       "      <td>0.0</td>\n",
       "      <td>0.0</td>\n",
       "      <td>0.0</td>\n",
       "      <td>0.0</td>\n",
       "      <td>0.0</td>\n",
       "      <td>0.0</td>\n",
       "      <td>0.0</td>\n",
       "      <td>0.0</td>\n",
       "      <td>9.0</td>\n",
       "      <td>1470.3</td>\n",
       "    </tr>\n",
       "    <tr>\n",
       "      <th>700</th>\n",
       "      <td>2021-05-31</td>\n",
       "      <td>0.0</td>\n",
       "      <td>7.0</td>\n",
       "      <td>0.0</td>\n",
       "      <td>0.0</td>\n",
       "      <td>0.0</td>\n",
       "      <td>7.0</td>\n",
       "      <td>0.0</td>\n",
       "      <td>3.0</td>\n",
       "      <td>0.0</td>\n",
       "      <td>...</td>\n",
       "      <td>2.0</td>\n",
       "      <td>0.0</td>\n",
       "      <td>0.0</td>\n",
       "      <td>0.0</td>\n",
       "      <td>0.0</td>\n",
       "      <td>497.0</td>\n",
       "      <td>501.0</td>\n",
       "      <td>0.0</td>\n",
       "      <td>5.0</td>\n",
       "      <td>811.0</td>\n",
       "    </tr>\n",
       "  </tbody>\n",
       "</table>\n",
       "<p>701 rows × 31 columns</p>\n",
       "</div>"
      ],
      "text/plain": [
       "           Date  promotion_post  like  comment  share  save  \\\n",
       "0    2019-07-01             0.0  11.0      0.0    0.0   0.0   \n",
       "1    2019-07-02             0.0   0.0      0.0    0.0   0.0   \n",
       "2    2019-07-03             0.0   0.0      0.0    0.0   0.0   \n",
       "3    2019-07-04             0.0   0.0      0.0    0.0   0.0   \n",
       "4    2019-07-05             0.0   0.0      0.0    0.0   0.0   \n",
       "..          ...             ...   ...      ...    ...   ...   \n",
       "696  2021-05-27             0.0  21.0      0.0    1.0   4.0   \n",
       "697  2021-05-28             0.0   7.0      0.0    0.0   2.0   \n",
       "698  2021-05-29             0.0   8.0      0.0    0.0   1.0   \n",
       "699  2021-05-30             0.0   4.0      0.0    1.0   2.0   \n",
       "700  2021-05-31             0.0   7.0      0.0    0.0   0.0   \n",
       "\n",
       "     product_page_views  product_button_click  profile_visits  web_clicks  \\\n",
       "0                   0.0                   0.0             0.0         0.0   \n",
       "1                   0.0                   0.0             0.0         0.0   \n",
       "2                   0.0                   0.0             0.0         0.0   \n",
       "3                   0.0                   0.0             0.0         0.0   \n",
       "4                   0.0                   0.0             0.0         0.0   \n",
       "..                  ...                   ...             ...         ...   \n",
       "696                 7.0                   0.0            20.0         2.0   \n",
       "697                 7.0                   0.0             4.0         0.0   \n",
       "698                 7.0                   0.0             0.0         0.0   \n",
       "699                 7.0                   0.0             4.0         0.0   \n",
       "700                 7.0                   0.0             3.0         0.0   \n",
       "\n",
       "     ...  is_profile_visits  is_websites_taps  is_sticker_taps  \\\n",
       "0    ...                0.0               0.0              0.0   \n",
       "1    ...                0.0               0.0              0.0   \n",
       "2    ...                0.0               0.0              0.0   \n",
       "3    ...                0.0               0.0              0.0   \n",
       "4    ...                0.0               0.0              0.0   \n",
       "..   ...                ...               ...              ...   \n",
       "696  ...                1.0               1.0              0.0   \n",
       "697  ...                8.0               3.0              0.0   \n",
       "698  ...                2.0               1.0              0.0   \n",
       "699  ...                0.0               0.0              0.0   \n",
       "700  ...                2.0               0.0              0.0   \n",
       "\n",
       "     is_get_direction_button_taps  is_business_address_taps  is_reach  \\\n",
       "0                             0.0                       0.0       0.0   \n",
       "1                             0.0                       0.0       0.0   \n",
       "2                             0.0                       0.0       0.0   \n",
       "3                             0.0                       0.0       0.0   \n",
       "4                             0.0                       0.0       0.0   \n",
       "..                            ...                       ...       ...   \n",
       "696                           0.0                       0.0    1218.0   \n",
       "697                           0.0                       0.0    1952.0   \n",
       "698                           0.0                       0.0    1952.0   \n",
       "699                           0.0                       0.0       0.0   \n",
       "700                           0.0                       0.0     497.0   \n",
       "\n",
       "     is_impression  is_follows  Quantity   sales  \n",
       "0              0.0         0.0       9.0  3490.0  \n",
       "1              0.0         0.0      10.0  4943.0  \n",
       "2              0.0         0.0      10.0  4943.0  \n",
       "3              0.0         0.0       5.0  1573.0  \n",
       "4              0.0         0.0      10.0  4943.0  \n",
       "..             ...         ...       ...     ...  \n",
       "696         1247.0         0.0      10.0  4943.0  \n",
       "697         2020.0         0.0      10.0  4943.0  \n",
       "698         2020.0         0.0      10.0  4943.0  \n",
       "699            0.0         0.0       9.0  1470.3  \n",
       "700          501.0         0.0       5.0   811.0  \n",
       "\n",
       "[701 rows x 31 columns]"
      ]
     },
     "execution_count": 201,
     "metadata": {},
     "output_type": "execute_result"
    }
   ],
   "source": [
    "data_1"
   ]
  },
  {
   "cell_type": "code",
   "execution_count": 202,
   "id": "c18737d5",
   "metadata": {},
   "outputs": [],
   "source": [
    "data_lstm = data_1[[\"sales\", \"share\", \"save\", \"product_page_views\", \"profile_visits\", \"reach\", \"total_imp\", \n",
    "                    \"imp_home\", \"imp_profile\", \"imp_hashtag\", \"imp_other\", \"imp_explore\", \"is_profile_visits\", \n",
    "                    \"is_websites_taps\", \"is_reach\", \"is_impression\"]]"
   ]
  },
  {
   "cell_type": "code",
   "execution_count": 203,
   "id": "ee972782",
   "metadata": {},
   "outputs": [],
   "source": [
    "# Function to convert series to supervised learning\n",
    "\n",
    "def series_to_supervised(data, n_in=1, n_out=1, dropnan=True):\n",
    "    n_vars = 1 if type(data) is list else data.shape[1]\n",
    "    df = DataFrame(data)\n",
    "    cols, names = list(), list()\n",
    "    # input sequence (t-n, ... t-1)\n",
    "    for i in range(n_in, 0, -1):\n",
    "        cols.append(df.shift(i))\n",
    "        names += [('var%d(t-%d)' % (j+1, i)) for j in range(n_vars)]\n",
    "    # forecast sequence (t, t+1, ... t+n)\n",
    "    for i in range(0, n_out):\n",
    "        cols.append(df.shift(-i))\n",
    "        if i == 0:\n",
    "            names += [('var%d(t)' % (j+1)) for j in range(n_vars)]\n",
    "        else:\n",
    "            names += [('var%d(t+%d)' % (j+1, i)) for j in range(n_vars)]\n",
    "    # put it all together\n",
    "    agg = concat(cols, axis=1)\n",
    "    agg.columns = names \n",
    "    if dropnan:\n",
    "        agg.dropna(inplace=True)\n",
    "    return agg"
   ]
  },
  {
   "cell_type": "code",
   "execution_count": 204,
   "id": "33145deb",
   "metadata": {},
   "outputs": [],
   "source": [
    "# ensure data type is float\n",
    "data_lstm = data_lstm.astype('float32')\n",
    "\n",
    "# data normalization\n",
    "scaler = MinMaxScaler(feature_range=(0, 1))\n",
    "scaled = scaler.fit_transform(data_lstm)"
   ]
  },
  {
   "cell_type": "code",
   "execution_count": 205,
   "id": "973fbb43",
   "metadata": {},
   "outputs": [
    {
     "data": {
      "text/plain": [
       "Index(['var1(t-1)', 'var2(t-1)', 'var3(t-1)', 'var4(t-1)', 'var5(t-1)',\n",
       "       'var6(t-1)', 'var7(t-1)', 'var8(t-1)', 'var9(t-1)', 'var10(t-1)',\n",
       "       'var11(t-1)', 'var12(t-1)', 'var13(t-1)', 'var14(t-1)', 'var15(t-1)',\n",
       "       'var16(t-1)', 'var1(t)', 'var2(t)', 'var3(t)', 'var4(t)', 'var5(t)',\n",
       "       'var6(t)', 'var7(t)', 'var8(t)', 'var9(t)', 'var10(t)', 'var11(t)',\n",
       "       'var12(t)', 'var13(t)', 'var14(t)', 'var15(t)', 'var16(t)'],\n",
       "      dtype='object')"
      ]
     },
     "execution_count": 205,
     "metadata": {},
     "output_type": "execute_result"
    }
   ],
   "source": [
    "#transforming data into a supervised series\n",
    "reframed = series_to_supervised(scaled, 1, 1)\n",
    "reframed.columns"
   ]
  },
  {
   "cell_type": "code",
   "execution_count": 206,
   "id": "1d5c11b7",
   "metadata": {},
   "outputs": [
    {
     "data": {
      "text/plain": [
       "Index(['var2(t)', 'var3(t)', 'var4(t)', 'var5(t)', 'var6(t)', 'var7(t)',\n",
       "       'var8(t)', 'var9(t)', 'var10(t)', 'var11(t)', 'var12(t)', 'var13(t)',\n",
       "       'var14(t)', 'var15(t)', 'var16(t)'],\n",
       "      dtype='object')"
      ]
     },
     "execution_count": 206,
     "metadata": {},
     "output_type": "execute_result"
    }
   ],
   "source": [
    "reframed.columns[17:]"
   ]
  },
  {
   "cell_type": "code",
   "execution_count": 207,
   "id": "8cae3bb3",
   "metadata": {},
   "outputs": [
    {
     "name": "stdout",
     "output_type": "stream",
     "text": [
      "   var1(t-1)  var2(t-1)  var3(t-1)  var4(t-1)  var5(t-1)  var6(t-1)  \\\n",
      "1   0.706049        0.0        0.0        0.0        0.0   0.001232   \n",
      "2   1.000000        0.0        0.0        0.0        0.0   0.000000   \n",
      "3   1.000000        0.0        0.0        0.0        0.0   0.000000   \n",
      "4   0.318228        0.0        0.0        0.0        0.0   0.000000   \n",
      "5   1.000000        0.0        0.0        0.0        0.0   0.000000   \n",
      "\n",
      "   var7(t-1)  var8(t-1)  var9(t-1)  var10(t-1)  var11(t-1)  var12(t-1)  \\\n",
      "1   0.001125        0.0   0.004926         0.0         0.0         0.0   \n",
      "2   0.000000        0.0   0.000000         0.0         0.0         0.0   \n",
      "3   0.000000        0.0   0.000000         0.0         0.0         0.0   \n",
      "4   0.000000        0.0   0.000000         0.0         0.0         0.0   \n",
      "5   0.000000        0.0   0.000000         0.0         0.0         0.0   \n",
      "\n",
      "   var13(t-1)  var14(t-1)  var15(t-1)  var16(t-1)   var1(t)  \n",
      "1         0.0         0.0         0.0         0.0  1.000000  \n",
      "2         0.0         0.0         0.0         0.0  1.000000  \n",
      "3         0.0         0.0         0.0         0.0  0.318228  \n",
      "4         0.0         0.0         0.0         0.0  1.000000  \n",
      "5         0.0         0.0         0.0         0.0  1.000000  \n"
     ]
    }
   ],
   "source": [
    "#dropping irrelevant columns for modelling \n",
    "reframed.drop(reframed.columns[17:], axis=1, inplace=True)\n",
    "print(reframed.head())"
   ]
  },
  {
   "cell_type": "code",
   "execution_count": 208,
   "id": "9e65b883",
   "metadata": {},
   "outputs": [
    {
     "data": {
      "text/plain": [
       "(700, 17)"
      ]
     },
     "execution_count": 208,
     "metadata": {},
     "output_type": "execute_result"
    }
   ],
   "source": [
    "reframed.shape"
   ]
  },
  {
   "cell_type": "code",
   "execution_count": 209,
   "id": "93b6f706",
   "metadata": {},
   "outputs": [],
   "source": [
    "# split into train and test sets\n",
    "values = reframed.values\n",
    "train = values[:490, :]\n",
    "test = values[490:, :]\n",
    "\n",
    "# split into input and outputs\n",
    "train_X, train_y = train[:, :-1], train[:, -1]\n",
    "test_X, test_y = test[:, :-1], test[:, -1]"
   ]
  },
  {
   "cell_type": "code",
   "execution_count": 210,
   "id": "74c83fe7",
   "metadata": {},
   "outputs": [
    {
     "name": "stdout",
     "output_type": "stream",
     "text": [
      "(490, 1, 16) (490,) (210, 1, 16) (210,)\n"
     ]
    }
   ],
   "source": [
    "# reshape input to be 3D [samples, timesteps, features]\n",
    "train_X = train_X.reshape((train_X.shape[0], 1, train_X.shape[1]))\n",
    "test_X = test_X.reshape((test_X.shape[0], 1, test_X.shape[1]))\n",
    "print(train_X.shape, train_y.shape, test_X.shape, test_y.shape)"
   ]
  },
  {
   "cell_type": "code",
   "execution_count": 211,
   "id": "1d1572a5",
   "metadata": {
    "scrolled": true
   },
   "outputs": [
    {
     "name": "stdout",
     "output_type": "stream",
     "text": [
      "Epoch 1/20\n",
      "7/7 - 2s - loss: 0.5416 - val_loss: 0.3683 - 2s/epoch - 314ms/step\n",
      "Epoch 2/20\n",
      "7/7 - 0s - loss: 0.4477 - val_loss: 0.3119 - 37ms/epoch - 5ms/step\n",
      "Epoch 3/20\n",
      "7/7 - 0s - loss: 0.4017 - val_loss: 0.3086 - 41ms/epoch - 6ms/step\n",
      "Epoch 4/20\n",
      "7/7 - 0s - loss: 0.3790 - val_loss: 0.3202 - 43ms/epoch - 6ms/step\n",
      "Epoch 5/20\n",
      "7/7 - 0s - loss: 0.3685 - val_loss: 0.3288 - 42ms/epoch - 6ms/step\n",
      "Epoch 6/20\n",
      "7/7 - 0s - loss: 0.3612 - val_loss: 0.3293 - 37ms/epoch - 5ms/step\n",
      "Epoch 7/20\n",
      "7/7 - 0s - loss: 0.3549 - val_loss: 0.3257 - 40ms/epoch - 6ms/step\n",
      "Epoch 8/20\n",
      "7/7 - 0s - loss: 0.3495 - val_loss: 0.3218 - 36ms/epoch - 5ms/step\n",
      "Epoch 9/20\n",
      "7/7 - 0s - loss: 0.3452 - val_loss: 0.3191 - 37ms/epoch - 5ms/step\n",
      "Epoch 10/20\n",
      "7/7 - 0s - loss: 0.3417 - val_loss: 0.3177 - 33ms/epoch - 5ms/step\n",
      "Epoch 11/20\n",
      "7/7 - 0s - loss: 0.3385 - val_loss: 0.3168 - 33ms/epoch - 5ms/step\n",
      "Epoch 12/20\n",
      "7/7 - 0s - loss: 0.3356 - val_loss: 0.3164 - 36ms/epoch - 5ms/step\n",
      "Epoch 13/20\n",
      "7/7 - 0s - loss: 0.3330 - val_loss: 0.3164 - 34ms/epoch - 5ms/step\n",
      "Epoch 14/20\n",
      "7/7 - 0s - loss: 0.3306 - val_loss: 0.3166 - 34ms/epoch - 5ms/step\n",
      "Epoch 15/20\n",
      "7/7 - 0s - loss: 0.3284 - val_loss: 0.3164 - 36ms/epoch - 5ms/step\n",
      "Epoch 16/20\n",
      "7/7 - 0s - loss: 0.3266 - val_loss: 0.3160 - 36ms/epoch - 5ms/step\n",
      "Epoch 17/20\n",
      "7/7 - 0s - loss: 0.3250 - val_loss: 0.3155 - 36ms/epoch - 5ms/step\n",
      "Epoch 18/20\n",
      "7/7 - 0s - loss: 0.3236 - val_loss: 0.3150 - 36ms/epoch - 5ms/step\n",
      "Epoch 19/20\n",
      "7/7 - 0s - loss: 0.3224 - val_loss: 0.3145 - 34ms/epoch - 5ms/step\n",
      "Epoch 20/20\n",
      "7/7 - 0s - loss: 0.3211 - val_loss: 0.3143 - 33ms/epoch - 5ms/step\n"
     ]
    },
    {
     "data": {
      "image/png": "[encoded data removed]",
      "text/plain": [
       "<Figure size 432x288 with 1 Axes>"
      ]
     },
     "metadata": {
      "needs_background": "light"
     },
     "output_type": "display_data"
    }
   ],
   "source": [
    "# define LSTM model\n",
    "model = Sequential()\n",
    "model.add(LSTM(50, input_shape=(train_X.shape[1], train_X.shape[2])))\n",
    "model.add(Dense(1))\n",
    "model.compile(loss='mae', optimizer='adam')\n",
    "\n",
    "# fit into model\n",
    "history = model.fit(train_X, train_y, epochs=20, batch_size=72, validation_data=(test_X, test_y), verbose=2, shuffle=False)\n",
    "\n",
    "# plot history \n",
    "pyplot.plot(history.history['loss'], label='train')\n",
    "pyplot.plot(history.history['val_loss'], label='test')\n",
    "pyplot.legend()\n",
    "pyplot.show()"
   ]
  },
  {
   "cell_type": "code",
   "execution_count": 212,
   "id": "40b657c5",
   "metadata": {},
   "outputs": [
    {
     "name": "stdout",
     "output_type": "stream",
     "text": [
      "Model: \"sequential_21\"\n",
      "_________________________________________________________________\n",
      " Layer (type)                Output Shape              Param #   \n",
      "=================================================================\n",
      " lstm_21 (LSTM)              (None, 50)                13400     \n",
      "                                                                 \n",
      " dense_21 (Dense)            (None, 1)                 51        \n",
      "                                                                 \n",
      "=================================================================\n",
      "Total params: 13,451\n",
      "Trainable params: 13,451\n",
      "Non-trainable params: 0\n",
      "_________________________________________________________________\n"
     ]
    }
   ],
   "source": [
    "model.summary()"
   ]
  },
  {
   "cell_type": "code",
   "execution_count": 213,
   "id": "15cae003",
   "metadata": {},
   "outputs": [
    {
     "name": "stdout",
     "output_type": "stream",
     "text": [
      "Train MAE: 1579.395 Train RMSE: 1837.114\n"
     ]
    }
   ],
   "source": [
    "#TRAIN RMSE\n",
    "\n",
    "pred_y_train = model.predict(train_X)\n",
    "train_X = train_X.reshape((train_X.shape[0], train_X.shape[2]))\n",
    "\n",
    "# invert scaling for forecast\n",
    "inv_pred_y_train = concatenate((pred_y_train, train_X[:, 1:]), axis=1) \n",
    "inv_pred_y_train = scaler.inverse_transform(inv_pred_y_train)\n",
    "inv_pred_y_train = inv_pred_y_train[:,0]\n",
    "\n",
    "# invert scaling for actual\n",
    "train_y = train_y.reshape((len(train_y), 1))\n",
    "inv_train_y = concatenate((train_y, train_X[:, 1:]), axis=1)\n",
    "inv_train_y = scaler.inverse_transform(inv_train_y)\n",
    "inv_train_y = inv_train_y[:,0]\n",
    "\n",
    "#calculate MAE\n",
    "mae_train = mae(inv_train_y, inv_pred_y_train)\n",
    "# calculate RMSE\n",
    "rmse_train = sqrt(mean_squared_error(inv_train_y, inv_pred_y_train))\n",
    "print('Train MAE: %.3f' % mae_train, 'Train RMSE: %.3f' % rmse_train)"
   ]
  },
  {
   "cell_type": "code",
   "execution_count": 214,
   "id": "74c95c87",
   "metadata": {
    "scrolled": true
   },
   "outputs": [],
   "source": [
    "date = pd.to_datetime(data_1[\"Date\"])"
   ]
  },
  {
   "cell_type": "code",
   "execution_count": 215,
   "id": "c6aea704",
   "metadata": {},
   "outputs": [
    {
     "data": {
      "text/plain": [
       "1     2019-07-02\n",
       "2     2019-07-03\n",
       "3     2019-07-04\n",
       "4     2019-07-05\n",
       "5     2019-07-06\n",
       "         ...    \n",
       "486   2020-10-29\n",
       "487   2020-10-30\n",
       "488   2020-10-31\n",
       "489   2020-11-01\n",
       "490   2020-11-02\n",
       "Name: Date, Length: 490, dtype: datetime64[ns]"
      ]
     },
     "execution_count": 215,
     "metadata": {},
     "output_type": "execute_result"
    }
   ],
   "source": [
    "date[1:491]"
   ]
  },
  {
   "cell_type": "code",
   "execution_count": 216,
   "id": "f6e69bc4",
   "metadata": {},
   "outputs": [
    {
     "data": {
      "text/plain": [
       "pandas.core.series.Series"
      ]
     },
     "execution_count": 216,
     "metadata": {},
     "output_type": "execute_result"
    }
   ],
   "source": [
    "type(date)"
   ]
  },
  {
   "cell_type": "code",
   "execution_count": 217,
   "id": "e5232397",
   "metadata": {},
   "outputs": [
    {
     "data": {
      "image/png": "[encoded data removed]",
      "text/plain": [
       "<Figure size 432x288 with 1 Axes>"
      ]
     },
     "metadata": {
      "needs_background": "light"
     },
     "output_type": "display_data"
    }
   ],
   "source": [
    "import matplotlib.pyplot as plt\n",
    "actual = inv_y_test\n",
    "predict = inv_pred_y_test\n",
    "dates_model = date[491:]\n",
    "\n",
    "line_chart1 = plt.plot(dates_model, actual)\n",
    "line_chart2 = plt.plot(dates_model, predict)\n",
    "plt.xticks(rotation=30)\n",
    "plt.title('LSTM Performance Evaluation')\n",
    "plt.xlabel('Month')\n",
    "plt.ylabel('Sales')\n",
    "plt.legend(['Actual', 'Predict'], loc=4)\n",
    "plt.show()\n"
   ]
  },
  {
   "cell_type": "code",
   "execution_count": 218,
   "id": "fb6a1e36",
   "metadata": {},
   "outputs": [
    {
     "name": "stdout",
     "output_type": "stream",
     "text": [
      "Test MAE: 1553.431 Test RMSE: 1828.591\n"
     ]
    }
   ],
   "source": [
    "#TEST RMSE\n",
    "\n",
    "# make a prediction\n",
    "pred_y_test = model.predict(test_X)\n",
    "test_X = test_X.reshape((test_X.shape[0], test_X.shape[2]))\n",
    "\n",
    "# invert scaling for forecast\n",
    "inv_pred_y_test = concatenate((pred_y_test, test_X[:, 1:]), axis=1) \n",
    "inv_pred_y_test = scaler.inverse_transform(inv_pred_y_test)\n",
    "inv_pred_y_test = inv_pred_y_test[:,0]\n",
    "\n",
    "# invert scaling for actual\n",
    "test_y = test_y.reshape((len(test_y), 1))\n",
    "inv_y_test = concatenate((test_y, test_X[:, 1:]), axis=1)\n",
    "inv_y_test = scaler.inverse_transform(inv_y_test)\n",
    "inv_y_test = inv_y_test[:,0]\n",
    "\n",
    "#calculate MAE\n",
    "mae_test = mae(inv_y_test, inv_pred_y_test)\n",
    "# calculate RMSE\n",
    "rmse_test = sqrt(mean_squared_error(inv_y_test, inv_pred_y_test))\n",
    "print('Test MAE: %.3f' % mae_test, 'Test RMSE: %.3f' % rmse_test)"
   ]
  },
  {
   "cell_type": "code",
   "execution_count": 219,
   "id": "d6e753d3",
   "metadata": {},
   "outputs": [
    {
     "name": "stdout",
     "output_type": "stream",
     "text": [
      "   var1(t-2)  var2(t-2)  var3(t-2)  var4(t-2)  var5(t-2)  var6(t-2)  \\\n",
      "2   0.706049        0.0        0.0        0.0        0.0   0.001232   \n",
      "3   1.000000        0.0        0.0        0.0        0.0   0.000000   \n",
      "4   1.000000        0.0        0.0        0.0        0.0   0.000000   \n",
      "5   0.318228        0.0        0.0        0.0        0.0   0.000000   \n",
      "6   1.000000        0.0        0.0        0.0        0.0   0.000000   \n",
      "\n",
      "   var7(t-2)  var8(t-2)  var9(t-2)  var10(t-2)  ...  var7(t)  var8(t)  \\\n",
      "2   0.001125        0.0   0.004926         0.0  ...      0.0      0.0   \n",
      "3   0.000000        0.0   0.000000         0.0  ...      0.0      0.0   \n",
      "4   0.000000        0.0   0.000000         0.0  ...      0.0      0.0   \n",
      "5   0.000000        0.0   0.000000         0.0  ...      0.0      0.0   \n",
      "6   0.000000        0.0   0.000000         0.0  ...      0.0      0.0   \n",
      "\n",
      "   var9(t)  var10(t)  var11(t)  var12(t)  var13(t)  var14(t)  var15(t)  \\\n",
      "2      0.0       0.0       0.0       0.0       0.0       0.0       0.0   \n",
      "3      0.0       0.0       0.0       0.0       0.0       0.0       0.0   \n",
      "4      0.0       0.0       0.0       0.0       0.0       0.0       0.0   \n",
      "5      0.0       0.0       0.0       0.0       0.0       0.0       0.0   \n",
      "6      0.0       0.0       0.0       0.0       0.0       0.0       0.0   \n",
      "\n",
      "   var16(t)  \n",
      "2       0.0  \n",
      "3       0.0  \n",
      "4       0.0  \n",
      "5       0.0  \n",
      "6       0.0  \n",
      "\n",
      "[5 rows x 48 columns]\n"
     ]
    }
   ],
   "source": [
    "# specify the number of lag hours\n",
    "n_days = 2\n",
    "n_features = 16\n",
    "\n",
    "# frame as supervised learning\n",
    "reframed = series_to_supervised(scaled, n_days, 1)\n",
    "print(reframed.head())"
   ]
  },
  {
   "cell_type": "code",
   "execution_count": 220,
   "id": "8d79ade4",
   "metadata": {},
   "outputs": [
    {
     "data": {
      "text/plain": [
       "(699, 48)"
      ]
     },
     "execution_count": 220,
     "metadata": {},
     "output_type": "execute_result"
    }
   ],
   "source": [
    "reframed.shape"
   ]
  },
  {
   "cell_type": "code",
   "execution_count": 221,
   "id": "1be73f17",
   "metadata": {},
   "outputs": [],
   "source": [
    "# split into train and test sets\n",
    "values = reframed.values\n",
    "train = values[:489, :]\n",
    "test = values[489:, :] "
   ]
  },
  {
   "cell_type": "code",
   "execution_count": 222,
   "id": "f722b618",
   "metadata": {},
   "outputs": [
    {
     "name": "stdout",
     "output_type": "stream",
     "text": [
      "(489, 32) (489,) (210, 32) (210,)\n"
     ]
    }
   ],
   "source": [
    "# split into input and outputs\n",
    "\n",
    "n_obs = n_days * n_features\n",
    "train_X, train_y = train[:, :n_obs], train[:, -n_features]\n",
    "test_X, test_y = test[:, :n_obs], test[:, -n_features]\n",
    "print(train_X.shape, train_y.shape, test_X.shape, test_y.shape)"
   ]
  },
  {
   "cell_type": "code",
   "execution_count": 223,
   "id": "9ebfa1cb",
   "metadata": {},
   "outputs": [
    {
     "name": "stdout",
     "output_type": "stream",
     "text": [
      "(489, 2, 16) (489,) (210, 2, 16) (210,)\n"
     ]
    }
   ],
   "source": [
    "#reshape input to be 3D [samples, timesteps, features]\n",
    "\n",
    "train_X = train_X.reshape((train_X.shape[0], n_days, n_features))\n",
    "test_X = test_X.reshape((test_X.shape[0], n_days, n_features))\n",
    "print(train_X.shape, train_y.shape, test_X.shape, test_y.shape)"
   ]
  },
  {
   "cell_type": "code",
   "execution_count": 224,
   "id": "0e48ec16",
   "metadata": {},
   "outputs": [
    {
     "name": "stdout",
     "output_type": "stream",
     "text": [
      "Epoch 1/20\n",
      "7/7 - 2s - loss: 0.5644 - val_loss: 0.3798 - 2s/epoch - 279ms/step\n",
      "Epoch 2/20\n",
      "7/7 - 0s - loss: 0.4220 - val_loss: 0.3346 - 39ms/epoch - 6ms/step\n",
      "Epoch 3/20\n",
      "7/7 - 0s - loss: 0.3823 - val_loss: 0.3514 - 41ms/epoch - 6ms/step\n",
      "Epoch 4/20\n",
      "7/7 - 0s - loss: 0.3712 - val_loss: 0.3601 - 41ms/epoch - 6ms/step\n",
      "Epoch 5/20\n",
      "7/7 - 0s - loss: 0.3611 - val_loss: 0.3520 - 42ms/epoch - 6ms/step\n",
      "Epoch 6/20\n",
      "7/7 - 0s - loss: 0.3514 - val_loss: 0.3445 - 42ms/epoch - 6ms/step\n",
      "Epoch 7/20\n",
      "7/7 - 0s - loss: 0.3450 - val_loss: 0.3406 - 59ms/epoch - 8ms/step\n",
      "Epoch 8/20\n",
      "7/7 - 0s - loss: 0.3405 - val_loss: 0.3389 - 52ms/epoch - 7ms/step\n",
      "Epoch 9/20\n",
      "7/7 - 0s - loss: 0.3365 - val_loss: 0.3384 - 45ms/epoch - 6ms/step\n",
      "Epoch 10/20\n",
      "7/7 - 0s - loss: 0.3321 - val_loss: 0.3382 - 57ms/epoch - 8ms/step\n",
      "Epoch 11/20\n",
      "7/7 - 0s - loss: 0.3273 - val_loss: 0.3378 - 59ms/epoch - 8ms/step\n",
      "Epoch 12/20\n",
      "7/7 - 0s - loss: 0.3227 - val_loss: 0.3373 - 37ms/epoch - 5ms/step\n",
      "Epoch 13/20\n",
      "7/7 - 0s - loss: 0.3184 - val_loss: 0.3367 - 37ms/epoch - 5ms/step\n",
      "Epoch 14/20\n",
      "7/7 - 0s - loss: 0.3147 - val_loss: 0.3365 - 36ms/epoch - 5ms/step\n",
      "Epoch 15/20\n",
      "7/7 - 0s - loss: 0.3114 - val_loss: 0.3367 - 36ms/epoch - 5ms/step\n",
      "Epoch 16/20\n",
      "7/7 - 0s - loss: 0.3085 - val_loss: 0.3375 - 40ms/epoch - 6ms/step\n",
      "Epoch 17/20\n",
      "7/7 - 0s - loss: 0.3060 - val_loss: 0.3386 - 43ms/epoch - 6ms/step\n",
      "Epoch 18/20\n",
      "7/7 - 0s - loss: 0.3038 - val_loss: 0.3387 - 44ms/epoch - 6ms/step\n",
      "Epoch 19/20\n",
      "7/7 - 0s - loss: 0.3015 - val_loss: 0.3374 - 42ms/epoch - 6ms/step\n",
      "Epoch 20/20\n",
      "7/7 - 0s - loss: 0.2991 - val_loss: 0.3368 - 43ms/epoch - 6ms/step\n"
     ]
    },
    {
     "data": {
      "image/png": "[encoded data removed]",
      "text/plain": [
       "<Figure size 432x288 with 1 Axes>"
      ]
     },
     "metadata": {
      "needs_background": "light"
     },
     "output_type": "display_data"
    }
   ],
   "source": [
    "# define network\n",
    "model = Sequential()\n",
    "model.add(LSTM(units=50, input_shape=(train_X.shape[1], train_X.shape[2])))\n",
    "model.add(Dense(1))\n",
    "model.compile(loss='mae', optimizer='adam')\n",
    "\n",
    "# fit model\n",
    "\n",
    "history = model.fit(train_X, train_y, epochs=20, batch_size=72, validation_data=(test_X, test_y), verbose=2, shuffle=False)\n",
    "\n",
    "# plot history\n",
    "pyplot.plot(history.history['loss'], label='train')\n",
    "pyplot.plot(history.history['val_loss'], label='test')\n",
    "pyplot.legend()\n",
    "pyplot.show()"
   ]
  },
  {
   "cell_type": "code",
   "execution_count": 225,
   "id": "31c05099",
   "metadata": {},
   "outputs": [
    {
     "name": "stdout",
     "output_type": "stream",
     "text": [
      "Train MAE: 1467.129 Train RMSE: 1722.422\n"
     ]
    }
   ],
   "source": [
    "#TRAIN RMSE\n",
    "\n",
    "pred_y_train = model.predict(train_X)\n",
    "train_X = train_X.reshape((train_X.shape[0], n_days*n_features))\n",
    "\n",
    "# invert scaling for forecast\n",
    "inv_pred_y_train = concatenate((pred_y_train, train_X[:, -15:]), axis=1) \n",
    "inv_pred_y_train = scaler.inverse_transform(inv_pred_y_train)\n",
    "inv_pred_y_train = inv_pred_y_train[:,0]\n",
    "\n",
    "# invert scaling for actual\n",
    "train_y = train_y.reshape((len(train_y), 1))\n",
    "inv_train_y = concatenate((train_y, train_X[:, -15:]), axis=1)\n",
    "inv_train_y = scaler.inverse_transform(inv_train_y)\n",
    "inv_train_y = inv_train_y[:,0]\n",
    "\n",
    "#calculate MAE\n",
    "mae_train = mae(inv_train_y, inv_pred_y_train)\n",
    "# calculate RMSE\n",
    "rmse_train = sqrt(mean_squared_error(inv_train_y, inv_pred_y_train))\n",
    "print('Train MAE: %.3f' % mae_train, 'Train RMSE: %.3f' % rmse_train)"
   ]
  },
  {
   "cell_type": "code",
   "execution_count": 226,
   "id": "9bfecbb2",
   "metadata": {},
   "outputs": [
    {
     "name": "stdout",
     "output_type": "stream",
     "text": [
      "Test MAE: 1553.431 Test RMSE: 1828.591\n"
     ]
    }
   ],
   "source": [
    "#Test RMSE\n",
    "\n",
    "pred_y = model.predict(test_X)\n",
    "test_X = test_X.reshape((test_X.shape[0], n_days*n_features))\n",
    "\n",
    "# invert scaling for forecast\n",
    "inv_pred_y = concatenate((pred_y, test_X[:, -15:]), axis=1)\n",
    "inv_pred_y = scaler.inverse_transform(inv_pred_y)\n",
    "inv_pred_y = inv_pred_y[:,0]\n",
    "\n",
    "# invert scaling for actual\n",
    "test_y = test_y.reshape((len(test_y), 1))\n",
    "inv_y = concatenate((test_y, test_X[:, -15:]), axis=1)\n",
    "inv_y = scaler.inverse_transform(inv_y)\n",
    "inv_y = inv_y[:,0]\n",
    "\n",
    "#calculate MAE\n",
    "mae_train = mae(inv_y_test, inv_pred_y_test)\n",
    "# calculate RMSE\n",
    "rmse = sqrt(mean_squared_error(inv_y, inv_pred_y))\n",
    "print('Test MAE: %.3f' % mae_train, 'Test RMSE: %.3f' % rmse_test)"
   ]
  },
  {
   "cell_type": "code",
   "execution_count": 227,
   "id": "1ecfe134",
   "metadata": {},
   "outputs": [
    {
     "name": "stdout",
     "output_type": "stream",
     "text": [
      "   var1(t-3)  var2(t-3)  var3(t-3)  var4(t-3)  var5(t-3)  var6(t-3)  \\\n",
      "3   0.706049        0.0        0.0        0.0        0.0   0.001232   \n",
      "4   1.000000        0.0        0.0        0.0        0.0   0.000000   \n",
      "5   1.000000        0.0        0.0        0.0        0.0   0.000000   \n",
      "6   0.318228        0.0        0.0        0.0        0.0   0.000000   \n",
      "7   1.000000        0.0        0.0        0.0        0.0   0.000000   \n",
      "\n",
      "   var7(t-3)  var8(t-3)  var9(t-3)  var10(t-3)  ...  var7(t)  var8(t)  \\\n",
      "3   0.001125        0.0   0.004926         0.0  ...      0.0      0.0   \n",
      "4   0.000000        0.0   0.000000         0.0  ...      0.0      0.0   \n",
      "5   0.000000        0.0   0.000000         0.0  ...      0.0      0.0   \n",
      "6   0.000000        0.0   0.000000         0.0  ...      0.0      0.0   \n",
      "7   0.000000        0.0   0.000000         0.0  ...      0.0      0.0   \n",
      "\n",
      "   var9(t)  var10(t)  var11(t)  var12(t)  var13(t)  var14(t)  var15(t)  \\\n",
      "3      0.0       0.0       0.0       0.0       0.0       0.0       0.0   \n",
      "4      0.0       0.0       0.0       0.0       0.0       0.0       0.0   \n",
      "5      0.0       0.0       0.0       0.0       0.0       0.0       0.0   \n",
      "6      0.0       0.0       0.0       0.0       0.0       0.0       0.0   \n",
      "7      0.0       0.0       0.0       0.0       0.0       0.0       0.0   \n",
      "\n",
      "   var16(t)  \n",
      "3       0.0  \n",
      "4       0.0  \n",
      "5       0.0  \n",
      "6       0.0  \n",
      "7       0.0  \n",
      "\n",
      "[5 rows x 64 columns]\n"
     ]
    }
   ],
   "source": [
    "# specify the number of lag hours\n",
    "n_days = 3\n",
    "n_features = 16\n",
    "\n",
    "# frame as supervised learning\n",
    "reframed = series_to_supervised(scaled, n_days, 1)\n",
    "print(reframed.head())"
   ]
  },
  {
   "cell_type": "code",
   "execution_count": 228,
   "id": "b7e6f0cc",
   "metadata": {},
   "outputs": [],
   "source": [
    "# split into train and test sets\n",
    "\n",
    "values = reframed.values\n",
    "train = values[:489, :]\n",
    "test = values[489:, :]"
   ]
  },
  {
   "cell_type": "code",
   "execution_count": 229,
   "id": "889b6946",
   "metadata": {},
   "outputs": [
    {
     "name": "stdout",
     "output_type": "stream",
     "text": [
      "(489, 48) (489,) (209, 48) (209,)\n"
     ]
    }
   ],
   "source": [
    "# split into input and outputs\n",
    "\n",
    "n_obs = n_days * n_features\n",
    "train_X, train_y = train[:, :n_obs], train[:, -n_features]\n",
    "test_X, test_y = test[:, :n_obs], test[:, -n_features]\n",
    "print(train_X.shape, train_y.shape, test_X.shape, test_y.shape)"
   ]
  },
  {
   "cell_type": "code",
   "execution_count": 230,
   "id": "2749e405",
   "metadata": {},
   "outputs": [
    {
     "name": "stdout",
     "output_type": "stream",
     "text": [
      "(489, 3, 16) (489,) (209, 3, 16) (209,)\n"
     ]
    }
   ],
   "source": [
    "train_X = train_X.reshape((train_X.shape[0], n_days, n_features))\n",
    "test_X = test_X.reshape((test_X.shape[0], n_days, n_features))\n",
    "print(train_X.shape, train_y.shape, test_X.shape, test_y.shape)"
   ]
  },
  {
   "cell_type": "code",
   "execution_count": 231,
   "id": "9b599cfe",
   "metadata": {},
   "outputs": [
    {
     "name": "stdout",
     "output_type": "stream",
     "text": [
      "Epoch 1/20\n",
      "7/7 - 2s - loss: 0.4713 - val_loss: 0.3228 - 2s/epoch - 323ms/step\n",
      "Epoch 2/20\n",
      "7/7 - 0s - loss: 0.3910 - val_loss: 0.3515 - 44ms/epoch - 6ms/step\n",
      "Epoch 3/20\n",
      "7/7 - 0s - loss: 0.3710 - val_loss: 0.3633 - 42ms/epoch - 6ms/step\n",
      "Epoch 4/20\n",
      "7/7 - 0s - loss: 0.3532 - val_loss: 0.3451 - 39ms/epoch - 6ms/step\n",
      "Epoch 5/20\n",
      "7/7 - 0s - loss: 0.3399 - val_loss: 0.3312 - 42ms/epoch - 6ms/step\n",
      "Epoch 6/20\n",
      "7/7 - 0s - loss: 0.3325 - val_loss: 0.3281 - 41ms/epoch - 6ms/step\n",
      "Epoch 7/20\n",
      "7/7 - 0s - loss: 0.3260 - val_loss: 0.3289 - 40ms/epoch - 6ms/step\n",
      "Epoch 8/20\n",
      "7/7 - 0s - loss: 0.3193 - val_loss: 0.3306 - 43ms/epoch - 6ms/step\n",
      "Epoch 9/20\n",
      "7/7 - 0s - loss: 0.3127 - val_loss: 0.3320 - 38ms/epoch - 5ms/step\n",
      "Epoch 10/20\n",
      "7/7 - 0s - loss: 0.3072 - val_loss: 0.3325 - 44ms/epoch - 6ms/step\n",
      "Epoch 11/20\n",
      "7/7 - 0s - loss: 0.3031 - val_loss: 0.3330 - 46ms/epoch - 7ms/step\n",
      "Epoch 12/20\n",
      "7/7 - 0s - loss: 0.3001 - val_loss: 0.3336 - 40ms/epoch - 6ms/step\n",
      "Epoch 13/20\n",
      "7/7 - 0s - loss: 0.2971 - val_loss: 0.3344 - 38ms/epoch - 5ms/step\n",
      "Epoch 14/20\n",
      "7/7 - 0s - loss: 0.2941 - val_loss: 0.3358 - 39ms/epoch - 6ms/step\n",
      "Epoch 15/20\n",
      "7/7 - 0s - loss: 0.2914 - val_loss: 0.3364 - 37ms/epoch - 5ms/step\n",
      "Epoch 16/20\n",
      "7/7 - 0s - loss: 0.2893 - val_loss: 0.3375 - 41ms/epoch - 6ms/step\n",
      "Epoch 17/20\n",
      "7/7 - 0s - loss: 0.2874 - val_loss: 0.3394 - 39ms/epoch - 6ms/step\n",
      "Epoch 18/20\n",
      "7/7 - 0s - loss: 0.2854 - val_loss: 0.3411 - 41ms/epoch - 6ms/step\n",
      "Epoch 19/20\n",
      "7/7 - 0s - loss: 0.2833 - val_loss: 0.3430 - 41ms/epoch - 6ms/step\n",
      "Epoch 20/20\n",
      "7/7 - 0s - loss: 0.2813 - val_loss: 0.3450 - 42ms/epoch - 6ms/step\n"
     ]
    },
    {
     "data": {
      "image/png": "[encoded data removed]",
      "text/plain": [
       "<Figure size 432x288 with 1 Axes>"
      ]
     },
     "metadata": {
      "needs_background": "light"
     },
     "output_type": "display_data"
    }
   ],
   "source": [
    "# design network\n",
    "model = Sequential()\n",
    "model.add(LSTM(50, input_shape=(train_X.shape[1], train_X.shape[2])))\n",
    "model.add(Dense(1))\n",
    "model.compile(loss='mae', optimizer='adam')\n",
    "# fit network\n",
    "history = model.fit(train_X, train_y, epochs=20, batch_size=72, validation_data=(test_X, test_y), verbose=2, shuffle=False)\n",
    "# plot history\n",
    "pyplot.plot(history.history['loss'], label='train')\n",
    "pyplot.plot(history.history['val_loss'], label='test')\n",
    "pyplot.legend()\n",
    "pyplot.show()"
   ]
  },
  {
   "cell_type": "code",
   "execution_count": 232,
   "id": "ec6d5744",
   "metadata": {},
   "outputs": [
    {
     "name": "stdout",
     "output_type": "stream",
     "text": [
      "Train MAE: 1381.011 Train RMSE: 1669.154\n"
     ]
    }
   ],
   "source": [
    "#TRAIN RMSE\n",
    "\n",
    "pred_y_train = model.predict(train_X)\n",
    "train_X = train_X.reshape((train_X.shape[0], n_days*n_features))\n",
    "\n",
    "# invert scaling for forecast\n",
    "inv_pred_y_train = concatenate((pred_y_train, train_X[:, -15:]), axis=1) \n",
    "inv_pred_y_train = scaler.inverse_transform(inv_pred_y_train)\n",
    "inv_pred_y_train = inv_pred_y_train[:,0]\n",
    "\n",
    "# invert scaling for actual\n",
    "train_y = train_y.reshape((len(train_y), 1))\n",
    "inv_train_y = concatenate((train_y, train_X[:, -15:]), axis=1)\n",
    "inv_train_y = scaler.inverse_transform(inv_train_y)\n",
    "inv_train_y = inv_train_y[:,0]\n",
    "\n",
    "#calculate MAE\n",
    "mae_train = mae(inv_train_y, inv_pred_y_train)\n",
    "# calculate RMSE\n",
    "rmse_train = sqrt(mean_squared_error(inv_train_y, inv_pred_y_train))\n",
    "print('Train MAE: %.3f' % mae_train, 'Train RMSE: %.3f' % rmse_train)"
   ]
  },
  {
   "cell_type": "code",
   "execution_count": 233,
   "id": "0409db73",
   "metadata": {},
   "outputs": [
    {
     "name": "stdout",
     "output_type": "stream",
     "text": [
      "Test MAE: 1553.431 Test RMSE: 1828.591\n"
     ]
    }
   ],
   "source": [
    "#Test RMSE\n",
    "\n",
    "pred_y = model.predict(test_X)\n",
    "test_X = test_X.reshape((test_X.shape[0], n_days*n_features))\n",
    "\n",
    "# invert scaling for forecast\n",
    "inv_pred_y = concatenate((pred_y, test_X[:, -15:]), axis=1)\n",
    "inv_pred_y = scaler.inverse_transform(inv_pred_y)\n",
    "inv_pred_y = inv_pred_y[:,0]\n",
    "\n",
    "# invert scaling for actual\n",
    "test_y = test_y.reshape((len(test_y), 1))\n",
    "inv_y = concatenate((test_y, test_X[:, -15:]), axis=1)\n",
    "inv_y = scaler.inverse_transform(inv_y)\n",
    "inv_y = inv_y[:,0]\n",
    "\n",
    "#calculate MAE\n",
    "mae_train = mae(inv_y_test, inv_pred_y_test)\n",
    "# calculate RMSE\n",
    "rmse = sqrt(mean_squared_error(inv_y, inv_pred_y))\n",
    "print('Test MAE: %.3f' % mae_train, 'Test RMSE: %.3f' % rmse_test)"
   ]
  },
  {
   "cell_type": "code",
   "execution_count": 234,
   "id": "88783c67",
   "metadata": {},
   "outputs": [],
   "source": [
    "#creating dataset for modelling \n",
    "\n",
    "data_lstm_uni = data_lstm['sales']\n",
    "data_lstm_uni = data_lstm_uni.to_frame()\n",
    "data_lstm_uni = data_lstm_uni.values\n",
    "data_lstm_uni = data_lstm_uni.astype('float32')"
   ]
  },
  {
   "cell_type": "code",
   "execution_count": 235,
   "id": "9380ddd1",
   "metadata": {},
   "outputs": [],
   "source": [
    "# convert an array of values into a dataset matrix\n",
    "def create_dataset(dataset, look_back=1):\n",
    "    dataX, dataY = [], []\n",
    "    for i in range(len(dataset)-look_back-1):\n",
    "        a = dataset[i:(i+look_back), 0]\n",
    "        dataX.append(a)\n",
    "        dataY.append(dataset[i + look_back, 0])\n",
    "    return numpy.array(dataX), numpy.array(dataY)"
   ]
  },
  {
   "cell_type": "code",
   "execution_count": 236,
   "id": "855331d0",
   "metadata": {},
   "outputs": [],
   "source": [
    "# normalize the dataset\n",
    "scaler = MinMaxScaler(feature_range=(0, 1))\n",
    "dataset = scaler.fit_transform(data_lstm_uni)"
   ]
  },
  {
   "cell_type": "code",
   "execution_count": 237,
   "id": "24443967",
   "metadata": {},
   "outputs": [],
   "source": [
    "# split into train and test sets\n",
    "train_size = int(len(dataset) * 0.70)\n",
    "test_size = len(dataset) - train_size\n",
    "train, test = dataset[0:train_size,:], dataset[train_size:len(dataset),:]\n",
    "\n",
    "# reshape into X=t and Y=t+1\n",
    "look_back = 1\n",
    "trainX, trainY = create_dataset(train, look_back)\n",
    "testX, testY = create_dataset(test, look_back)"
   ]
  },
  {
   "cell_type": "code",
   "execution_count": 238,
   "id": "e2b6efd4",
   "metadata": {},
   "outputs": [],
   "source": [
    "# reshape input to be [samples, time steps, features]\n",
    "trainX = numpy.reshape(trainX, (trainX.shape[0], 1, trainX.shape[1]))\n",
    "testX = numpy.reshape(testX, (testX.shape[0], 1, testX.shape[1]))"
   ]
  },
  {
   "cell_type": "code",
   "execution_count": 239,
   "id": "215420d2",
   "metadata": {},
   "outputs": [
    {
     "name": "stdout",
     "output_type": "stream",
     "text": [
      "Epoch 1/20\n",
      "7/7 - 2s - loss: 0.5649 - val_loss: 0.4358 - 2s/epoch - 300ms/step\n",
      "Epoch 2/20\n",
      "7/7 - 0s - loss: 0.5348 - val_loss: 0.4149 - 39ms/epoch - 6ms/step\n",
      "Epoch 3/20\n",
      "7/7 - 0s - loss: 0.5061 - val_loss: 0.3961 - 34ms/epoch - 5ms/step\n",
      "Epoch 4/20\n",
      "7/7 - 0s - loss: 0.4788 - val_loss: 0.3800 - 35ms/epoch - 5ms/step\n",
      "Epoch 5/20\n",
      "7/7 - 0s - loss: 0.4529 - val_loss: 0.3661 - 39ms/epoch - 6ms/step\n",
      "Epoch 6/20\n",
      "7/7 - 0s - loss: 0.4290 - val_loss: 0.3531 - 39ms/epoch - 6ms/step\n",
      "Epoch 7/20\n",
      "7/7 - 0s - loss: 0.4072 - val_loss: 0.3424 - 41ms/epoch - 6ms/step\n",
      "Epoch 8/20\n",
      "7/7 - 0s - loss: 0.3879 - val_loss: 0.3349 - 43ms/epoch - 6ms/step\n",
      "Epoch 9/20\n",
      "7/7 - 0s - loss: 0.3701 - val_loss: 0.3289 - 61ms/epoch - 9ms/step\n",
      "Epoch 10/20\n",
      "7/7 - 0s - loss: 0.3551 - val_loss: 0.3240 - 44ms/epoch - 6ms/step\n",
      "Epoch 11/20\n",
      "7/7 - 0s - loss: 0.3433 - val_loss: 0.3209 - 37ms/epoch - 5ms/step\n",
      "Epoch 12/20\n",
      "7/7 - 0s - loss: 0.3341 - val_loss: 0.3197 - 38ms/epoch - 5ms/step\n",
      "Epoch 13/20\n",
      "7/7 - 0s - loss: 0.3271 - val_loss: 0.3190 - 40ms/epoch - 6ms/step\n",
      "Epoch 14/20\n",
      "7/7 - 0s - loss: 0.3217 - val_loss: 0.3189 - 44ms/epoch - 6ms/step\n",
      "Epoch 15/20\n",
      "7/7 - 0s - loss: 0.3177 - val_loss: 0.3193 - 42ms/epoch - 6ms/step\n",
      "Epoch 16/20\n",
      "7/7 - 0s - loss: 0.3151 - val_loss: 0.3206 - 44ms/epoch - 6ms/step\n",
      "Epoch 17/20\n",
      "7/7 - 0s - loss: 0.3131 - val_loss: 0.3222 - 44ms/epoch - 6ms/step\n",
      "Epoch 18/20\n",
      "7/7 - 0s - loss: 0.3117 - val_loss: 0.3238 - 44ms/epoch - 6ms/step\n",
      "Epoch 19/20\n",
      "7/7 - 0s - loss: 0.3108 - val_loss: 0.3251 - 42ms/epoch - 6ms/step\n",
      "Epoch 20/20\n",
      "7/7 - 0s - loss: 0.3102 - val_loss: 0.3261 - 41ms/epoch - 6ms/step\n"
     ]
    },
    {
     "data": {
      "image/png": "[encoded data removed]",
      "text/plain": [
       "<Figure size 432x288 with 1 Axes>"
      ]
     },
     "metadata": {
      "needs_background": "light"
     },
     "output_type": "display_data"
    }
   ],
   "source": [
    "# define LSTM model\n",
    "model = Sequential()\n",
    "model.add(LSTM(50, input_shape=(trainX.shape[1], look_back)))\n",
    "model.add(Dense(1))\n",
    "model.compile(loss='mae', optimizer='adam')\n",
    "\n",
    "#fit into model\n",
    "history = model.fit(trainX, trainY, epochs=20, batch_size=72, validation_data=(testX, testY),\n",
    "          verbose=2, shuffle = False)\n",
    "\n",
    "# plot history \n",
    "pyplot.plot(history.history['loss'], label='train')\n",
    "pyplot.plot(history.history['val_loss'], label='test')\n",
    "pyplot.legend()\n",
    "pyplot.show()"
   ]
  },
  {
   "cell_type": "code",
   "execution_count": 240,
   "id": "abdda2d3",
   "metadata": {},
   "outputs": [
    {
     "name": "stdout",
     "output_type": "stream",
     "text": [
      "Train MAE: 1528.897 Train RMSE: 1747.651\n",
      "Test MAE: 1611.935 Test RMSE: 1843.381\n"
     ]
    }
   ],
   "source": [
    "# make predictions\n",
    "trainPredict = model.predict(trainX)\n",
    "testPredict = model.predict(testX)\n",
    "\n",
    "# invert predictions\n",
    "trainPredict = scaler.inverse_transform(trainPredict)\n",
    "trainY = scaler.inverse_transform([trainY])\n",
    "testPredict = scaler.inverse_transform(testPredict)\n",
    "testY = scaler.inverse_transform([testY])\n",
    "\n",
    "# calculate root mean squared error\n",
    "trainMAE = mae(trainY[0], trainPredict[:,0])\n",
    "trainRMSE = math.sqrt(mean_squared_error(trainY[0], trainPredict[:,0]))\n",
    "print('Train MAE: %.3f' % trainMAE, 'Train RMSE: %.3f' % trainRMSE)\n",
    "testMAE = mae(testY[0], testPredict[:,0])\n",
    "testRMSE = math.sqrt(mean_squared_error(testY[0], testPredict[:,0]))\n",
    "print('Test MAE: %.3f' % testMAE, 'Test RMSE: %.3f' % testRMSE)"
   ]
  },
  {
   "cell_type": "code",
   "execution_count": 241,
   "id": "c566032e",
   "metadata": {},
   "outputs": [],
   "source": [
    "#creating dataset for modelling - 2time lags\n",
    "\n",
    "data_lstm_uni = data_lstm['sales']\n",
    "data_lstm_uni = data_lstm_uni.to_frame()\n",
    "data_lstm_uni = data_lstm_uni.values\n",
    "data_lstm_uni = data_lstm_uni.astype('float32')"
   ]
  },
  {
   "cell_type": "code",
   "execution_count": 243,
   "id": "2899fa2d",
   "metadata": {},
   "outputs": [],
   "source": [
    "# convert an array of values into a dataset matrix\n",
    "def create_dataset(dataset, look_back=2):\n",
    "    dataX, dataY = [], []\n",
    "    for i in range(len(dataset)-look_back-1):\n",
    "        a = dataset[i:(i+look_back), 0]\n",
    "        dataX.append(a)\n",
    "        dataY.append(dataset[i + look_back, 0])\n",
    "    return numpy.array(dataX), numpy.array(dataY)"
   ]
  },
  {
   "cell_type": "code",
   "execution_count": 244,
   "id": "920ca287",
   "metadata": {},
   "outputs": [],
   "source": [
    "# normalize the dataset\n",
    "scaler = MinMaxScaler(feature_range=(0, 1))\n",
    "dataset = scaler.fit_transform(data_lstm_uni)"
   ]
  },
  {
   "cell_type": "code",
   "execution_count": 245,
   "id": "c7a56469",
   "metadata": {},
   "outputs": [],
   "source": [
    "# split into train and test sets\n",
    "train_size = int(len(dataset) * 0.70)\n",
    "test_size = len(dataset) - train_size\n",
    "train, test = dataset[0:train_size,:], dataset[train_size:len(dataset),:]\n",
    "\n",
    "# reshape into X=t and Y=t+1\n",
    "look_back = 2\n",
    "trainX, trainY = create_dataset(train, look_back)\n",
    "testX, testY = create_dataset(test, look_back)"
   ]
  },
  {
   "cell_type": "code",
   "execution_count": 246,
   "id": "0c130520",
   "metadata": {},
   "outputs": [],
   "source": [
    "# reshape input to be [samples, time steps, features]\n",
    "trainX = numpy.reshape(trainX, (trainX.shape[0], 1, trainX.shape[1]))\n",
    "testX = numpy.reshape(testX, (testX.shape[0], 1, testX.shape[1]))"
   ]
  },
  {
   "cell_type": "code",
   "execution_count": 247,
   "id": "2c5a92fe",
   "metadata": {},
   "outputs": [
    {
     "name": "stdout",
     "output_type": "stream",
     "text": [
      "Epoch 1/20\n",
      "7/7 - 3s - loss: 0.6011 - val_loss: 0.4562 - 3s/epoch - 433ms/step\n",
      "Epoch 2/20\n",
      "7/7 - 0s - loss: 0.5578 - val_loss: 0.4263 - 32ms/epoch - 5ms/step\n",
      "Epoch 3/20\n",
      "7/7 - 0s - loss: 0.5188 - val_loss: 0.4009 - 34ms/epoch - 5ms/step\n",
      "Epoch 4/20\n",
      "7/7 - 0s - loss: 0.4824 - val_loss: 0.3796 - 34ms/epoch - 5ms/step\n",
      "Epoch 5/20\n",
      "7/7 - 0s - loss: 0.4486 - val_loss: 0.3624 - 32ms/epoch - 5ms/step\n",
      "Epoch 6/20\n",
      "7/7 - 0s - loss: 0.4184 - val_loss: 0.3477 - 31ms/epoch - 4ms/step\n",
      "Epoch 7/20\n",
      "7/7 - 0s - loss: 0.3911 - val_loss: 0.3372 - 32ms/epoch - 5ms/step\n",
      "Epoch 8/20\n",
      "7/7 - 0s - loss: 0.3673 - val_loss: 0.3299 - 35ms/epoch - 5ms/step\n",
      "Epoch 9/20\n",
      "7/7 - 0s - loss: 0.3471 - val_loss: 0.3260 - 32ms/epoch - 5ms/step\n",
      "Epoch 10/20\n",
      "7/7 - 0s - loss: 0.3311 - val_loss: 0.3240 - 33ms/epoch - 5ms/step\n",
      "Epoch 11/20\n",
      "7/7 - 0s - loss: 0.3205 - val_loss: 0.3235 - 35ms/epoch - 5ms/step\n",
      "Epoch 12/20\n",
      "7/7 - 0s - loss: 0.3138 - val_loss: 0.3239 - 33ms/epoch - 5ms/step\n",
      "Epoch 13/20\n",
      "7/7 - 0s - loss: 0.3097 - val_loss: 0.3254 - 33ms/epoch - 5ms/step\n",
      "Epoch 14/20\n",
      "7/7 - 0s - loss: 0.3073 - val_loss: 0.3268 - 33ms/epoch - 5ms/step\n",
      "Epoch 15/20\n",
      "7/7 - 0s - loss: 0.3059 - val_loss: 0.3280 - 40ms/epoch - 6ms/step\n",
      "Epoch 16/20\n",
      "7/7 - 0s - loss: 0.3050 - val_loss: 0.3289 - 49ms/epoch - 7ms/step\n",
      "Epoch 17/20\n",
      "7/7 - 0s - loss: 0.3045 - val_loss: 0.3296 - 41ms/epoch - 6ms/step\n",
      "Epoch 18/20\n",
      "7/7 - 0s - loss: 0.3042 - val_loss: 0.3301 - 35ms/epoch - 5ms/step\n",
      "Epoch 19/20\n",
      "7/7 - 0s - loss: 0.3040 - val_loss: 0.3305 - 38ms/epoch - 5ms/step\n",
      "Epoch 20/20\n",
      "7/7 - 0s - loss: 0.3038 - val_loss: 0.3308 - 38ms/epoch - 5ms/step\n"
     ]
    },
    {
     "data": {
      "image/png": "[encoded data removed]",
      "text/plain": [
       "<Figure size 432x288 with 1 Axes>"
      ]
     },
     "metadata": {
      "needs_background": "light"
     },
     "output_type": "display_data"
    }
   ],
   "source": [
    "# define LSTM model\n",
    "model = Sequential()\n",
    "model.add(LSTM(50, input_shape=(trainX.shape[1], look_back)))\n",
    "model.add(Dense(1))\n",
    "model.compile(loss='mae', optimizer='adam')\n",
    "\n",
    "#fit into model\n",
    "history = model.fit(trainX, trainY, epochs=20, batch_size=72, validation_data=(testX, testY),\n",
    "          verbose=2, shuffle = False)\n",
    "\n",
    "# plot history \n",
    "pyplot.plot(history.history['loss'], label='train')\n",
    "pyplot.plot(history.history['val_loss'], label='test')\n",
    "pyplot.legend()\n",
    "pyplot.show()"
   ]
  },
  {
   "cell_type": "code",
   "execution_count": 248,
   "id": "f7623834",
   "metadata": {},
   "outputs": [
    {
     "name": "stdout",
     "output_type": "stream",
     "text": [
      "Train MAE: 1500.124 Train RMSE: 1711.765\n",
      "Test MAE: 1634.974 Test RMSE: 1861.240\n"
     ]
    }
   ],
   "source": [
    "# make predictions\n",
    "trainPredict = model.predict(trainX)\n",
    "testPredict = model.predict(testX)\n",
    "\n",
    "# invert predictions\n",
    "trainPredict = scaler.inverse_transform(trainPredict)\n",
    "trainY = scaler.inverse_transform([trainY])\n",
    "testPredict = scaler.inverse_transform(testPredict)\n",
    "testY = scaler.inverse_transform([testY])\n",
    "\n",
    "# calculate root mean squared error\n",
    "trainMAE = mae(trainY[0], trainPredict[:,0])\n",
    "trainRMSE = math.sqrt(mean_squared_error(trainY[0], trainPredict[:,0]))\n",
    "print('Train MAE: %.3f' % trainMAE, 'Train RMSE: %.3f' % trainRMSE)\n",
    "testMAE = mae(testY[0], testPredict[:,0])\n",
    "testRMSE = math.sqrt(mean_squared_error(testY[0], testPredict[:,0]))\n",
    "print('Test MAE: %.3f' % testMAE, 'Test RMSE: %.3f' % testRMSE)"
   ]
  }
 ],
 "metadata": {
  "kernelspec": {
   "display_name": "Python 3",
   "language": "python",
   "name": "python3"
  },
  "language_info": {
   "codemirror_mode": {
    "name": "ipython",
    "version": 3
   },
   "file_extension": ".py",
   "mimetype": "text/x-python",
   "name": "python",
   "nbconvert_exporter": "python",
   "pygments_lexer": "ipython3",
   "version": "3.8.8"
  }
 },
 "nbformat": 4,
 "nbformat_minor": 5
}
